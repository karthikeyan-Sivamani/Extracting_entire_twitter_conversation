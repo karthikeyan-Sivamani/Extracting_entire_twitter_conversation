{
  "nbformat": 4,
  "nbformat_minor": 0,
  "metadata": {
    "colab": {
      "name": "Copy of Hello, Colaboratory",
      "version": "0.3.2",
      "provenance": [],
      "collapsed_sections": [],
      "toc_visible": true,
      "include_colab_link": true
    },
    "kernelspec": {
      "display_name": "Python 3",
      "name": "python3"
    }
  },
  "cells": [
    {
      "cell_type": "markdown",
      "metadata": {
        "id": "view-in-github",
        "colab_type": "text"
      },
      "source": [
        "<a href=\"https://colab.research.google.com/github/karthikeyan-Sivamani/Extracting_entire_twitter_conversation/blob/master/Copy_of_Hello%2C_Colaboratory.ipynb\" target=\"_parent\"><img src=\"https://colab.research.google.com/assets/colab-badge.svg\" alt=\"Open In Colab\"/></a>"
      ]
    },
    {
      "metadata": {
        "colab_type": "text",
        "id": "9J7p406abzgl"
      },
      "cell_type": "markdown",
      "source": [
        "<img height=\"60px\" src=\"https://colab.research.google.com/img/colab_favicon.ico\" align=\"left\" hspace=\"20px\" vspace=\"5px\">\n",
        "\n",
        "<h1>Welcome to Colaboratory!</h1>\n",
        "Colaboratory is a free Jupyter notebook environment that requires no setup and runs entirely in the cloud. See our [FAQ](https://research.google.com/colaboratory/faq.html) for more info."
      ]
    },
    {
      "metadata": {
        "id": "grOlO1myPGWj",
        "colab_type": "code",
        "outputId": "73e59fc6-67cd-4a91-d67c-3a6768fd8e48",
        "colab": {
          "base_uri": "https://localhost:8080/",
          "height": 1836
        }
      },
      "cell_type": "code",
      "source": [
        "'''\n",
        "1) Use Pandas' read_csv function directly on this url to open it as a DataFrame\n",
        "Display the first few rows\n",
        "Display  the DataFrame info.\n",
        "'''\n",
        "import pandas as pd\n",
        "df=pd.read_csv('http://www.ldeo.columbia.edu/~rpa/usgs_earthquakes_2014.csv')\n",
        "\n",
        "print('**********Sample records***********')\n",
        "print(df.head(2))\n",
        "\n",
        "print('***************Info abt data*************')\n",
        "df.info()\n",
        "\n",
        "'''\n",
        "2) Re-read the data in such a way that all date columns are identified as dates and the earthquake id is used as the index\n",
        "\n",
        "Verify that this worked using the head and info functions.\n",
        "'''\n",
        "#setting the earthquake id as index\n",
        "df.set_index('id', inplace=True)\n",
        "#Changing the date column type\n",
        "df['time']=pd.to_datetime(df['time'])\n",
        "\n",
        "print('**************Printing the sample records and df info after making changes****************')\n",
        "df.info()\n",
        "df.head(3)\n",
        "\n",
        "'''\n",
        "3) Use describe to get the basic statistics of all the columns\n",
        "\n",
        "Note the highest and lowest magnitude of earthquakes in the databse.\n",
        "'''\n",
        "print('***************Basic statistics of all columns*************')\n",
        "print(df.describe())\n",
        "\n",
        "print('*******highest and lowest magnitude of earthquakes**********')\n",
        "print(df['mag'].max())\n",
        "print(df['mag'].min())\n",
        "\n",
        "'''\n",
        "4) Use sort_values to get the top 20 earthquakes by magnitude\n",
        "\n",
        "Examine the structure of the place column. The country information seems to be in there. How would you get it out?\n",
        "'''\n",
        "print('*********top 20 earthquakes by magnitude*********')\n",
        "print(df['mag'].sort_values(ascending=False).head(20))\n",
        "print('*************Spliting the place to get the country info************')\n",
        "place_split=df['place'].str.split(',',n=1)\n",
        "\n",
        "\n",
        "'''\n",
        "5) Extract the country using Pandas text data functions\n",
        "\n",
        "Add it as a new column to the dataframe. (Is it really just country? No, some rows have the name of a US state.)\n",
        "'''\n",
        "df['country']=place_split.str[1]\n",
        "df.country.head()\n"
      ],
      "execution_count": 0,
      "outputs": [
        {
          "output_type": "stream",
          "text": [
            "**********Sample records***********\n",
            "                      time  latitude  longitude  depth   mag magType  nst  \\\n",
            "0  2014-01-31 23:53:37.000   60.2520  -152.7081   90.2  1.10      ml  NaN   \n",
            "1  2014-01-31 23:48:35.452   37.0703  -115.1309    0.0  1.33      ml  4.0   \n",
            "\n",
            "      gap   dmin     rms net          id                   updated  \\\n",
            "0     NaN    NaN  0.2900  ak  ak11155107  2014-02-05T19:34:41.515Z   \n",
            "1  171.43  0.342  0.0247  nn  nn00436847  2014-02-01T01:35:09.000Z   \n",
            "\n",
            "                               place        type  \n",
            "0  26km S of Redoubt Volcano, Alaska  earthquake  \n",
            "1            32km S of Alamo, Nevada  earthquake  \n",
            "***************Info abt data*************\n",
            "<class 'pandas.core.frame.DataFrame'>\n",
            "RangeIndex: 120108 entries, 0 to 120107\n",
            "Data columns (total 15 columns):\n",
            "time         120108 non-null object\n",
            "latitude     120108 non-null float64\n",
            "longitude    120108 non-null float64\n",
            "depth        120107 non-null float64\n",
            "mag          120065 non-null float64\n",
            "magType      120065 non-null object\n",
            "nst          59688 non-null float64\n",
            "gap          94935 non-null float64\n",
            "dmin         85682 non-null float64\n",
            "rms          119716 non-null float64\n",
            "net          120108 non-null object\n",
            "id           120108 non-null object\n",
            "updated      120108 non-null object\n",
            "place        120108 non-null object\n",
            "type         120108 non-null object\n",
            "dtypes: float64(8), object(7)\n",
            "memory usage: 13.7+ MB\n",
            "**************Printing the sample records and df info after making changes****************\n",
            "<class 'pandas.core.frame.DataFrame'>\n",
            "Index: 120108 entries, ak11155107 to ak11453389\n",
            "Data columns (total 14 columns):\n",
            "time         120108 non-null datetime64[ns]\n",
            "latitude     120108 non-null float64\n",
            "longitude    120108 non-null float64\n",
            "depth        120107 non-null float64\n",
            "mag          120065 non-null float64\n",
            "magType      120065 non-null object\n",
            "nst          59688 non-null float64\n",
            "gap          94935 non-null float64\n",
            "dmin         85682 non-null float64\n",
            "rms          119716 non-null float64\n",
            "net          120108 non-null object\n",
            "updated      120108 non-null object\n",
            "place        120108 non-null object\n",
            "type         120108 non-null object\n",
            "dtypes: datetime64[ns](1), float64(8), object(5)\n",
            "memory usage: 13.7+ MB\n",
            "***************Basic statistics of all columns*************\n",
            "            latitude      longitude          depth            mag  \\\n",
            "count  120108.000000  120108.000000  120107.000000  120065.000000   \n",
            "mean       38.399579     -99.961402      28.375029       1.793958   \n",
            "std        21.938258      82.996858      62.215416       1.343466   \n",
            "min       -73.462000    -179.998900      -9.900000      -0.970000   \n",
            "25%        34.228917    -147.742025       4.100000       0.820000   \n",
            "50%        38.805300    -120.832000       9.200000       1.400000   \n",
            "75%        53.889500    -116.068100      22.880000       2.400000   \n",
            "max        86.651400     179.998000     697.360000       8.200000   \n",
            "\n",
            "                nst           gap          dmin            rms  \n",
            "count  59688.000000  94935.000000  85682.000000  119716.000000  \n",
            "mean      17.878284    124.048978      0.893198       0.358174  \n",
            "std       14.911369     68.518595      2.903966       0.364046  \n",
            "min        0.000000      9.000000      0.000000       0.000000  \n",
            "25%        8.000000     74.000000      0.020760       0.070000  \n",
            "50%       14.000000    107.000000      0.073670       0.200000  \n",
            "75%       22.000000    155.000000      0.447000       0.590000  \n",
            "max      365.000000    356.400000     64.498000       8.460000  \n",
            "*******highest and lowest magnitude of earthquakes**********\n",
            "8.2\n",
            "-0.97\n",
            "*********top 20 earthquakes by magnitude*********\n",
            "id\n",
            "usc000nzvd    8.2\n",
            "usc000rki5    7.9\n",
            "usc000p27i    7.7\n",
            "usc000phx5    7.6\n",
            "usb000pr89    7.5\n",
            "usc000piqj    7.4\n",
            "usb000slwn    7.3\n",
            "usb000pq41    7.2\n",
            "usc000sxh8    7.1\n",
            "usc000pft9    7.1\n",
            "usc000stdc    7.1\n",
            "usb000sk6k    7.0\n",
            "usc000nzwm    6.9\n",
            "usc000rngj    6.9\n",
            "usc000rr6a    6.9\n",
            "usb000ruzk    6.9\n",
            "usc000rkg5    6.9\n",
            "usc000mnvj    6.9\n",
            "usb000rzki    6.9\n",
            "usb000r2hc    6.9\n",
            "Name: mag, dtype: float64\n",
            "*************Spliting the place to get the country info************\n"
          ],
          "name": "stdout"
        },
        {
          "output_type": "execute_result",
          "data": {
            "text/plain": [
              "id\n",
              "ak11155107     Alaska\n",
              "nn00436847     Nevada\n",
              "ak11151142     Alaska\n",
              "ak11151135     Alaska\n",
              "ci37171541     Mexico\n",
              "Name: country, dtype: object"
            ]
          },
          "metadata": {
            "tags": []
          },
          "execution_count": 176
        }
      ]
    },
    {
      "metadata": {
        "id": "qg9IJ4AHQ_ga",
        "colab_type": "code",
        "outputId": "033475f1-a75d-4eb3-e056-4391d078a965",
        "colab": {
          "base_uri": "https://localhost:8080/",
          "height": 49
        }
      },
      "cell_type": "code",
      "source": [
        "df1=pd.DataFrame({'A' : []})\n",
        "\n",
        "df[['mag']]=df1[['A']]\n",
        "df1.head()\n",
        "\n",
        "\n",
        "#df['country or not']=df['id'].apply(lambda x: False if x in 'usc' else True)"
      ],
      "execution_count": 0,
      "outputs": [
        {
          "output_type": "execute_result",
          "data": {
            "text/html": [
              "<div>\n",
              "<style scoped>\n",
              "    .dataframe tbody tr th:only-of-type {\n",
              "        vertical-align: middle;\n",
              "    }\n",
              "\n",
              "    .dataframe tbody tr th {\n",
              "        vertical-align: top;\n",
              "    }\n",
              "\n",
              "    .dataframe thead th {\n",
              "        text-align: right;\n",
              "    }\n",
              "</style>\n",
              "<table border=\"1\" class=\"dataframe\">\n",
              "  <thead>\n",
              "    <tr style=\"text-align: right;\">\n",
              "      <th></th>\n",
              "      <th>A</th>\n",
              "    </tr>\n",
              "  </thead>\n",
              "  <tbody>\n",
              "  </tbody>\n",
              "</table>\n",
              "</div>"
            ],
            "text/plain": [
              "Empty DataFrame\n",
              "Columns: [A]\n",
              "Index: []"
            ]
          },
          "metadata": {
            "tags": []
          },
          "execution_count": 189
        }
      ]
    },
    {
      "metadata": {
        "colab_type": "text",
        "id": "-Rh3-Vt9Nev9"
      },
      "cell_type": "markdown",
      "source": [
        "## Getting Started\n",
        "- [Overview of Colaboratory](/notebooks/basic_features_overview.ipynb)\n",
        "- [Loading and saving data: Local files, Drive, Sheets, Google Cloud Storage](/notebooks/io.ipynb)\n",
        "- [Importing libraries and installing dependencies](/notebooks/snippets/importing_libraries.ipynb)\n",
        "- [Using Google Cloud BigQuery](/notebooks/bigquery.ipynb)\n",
        "- [Forms](/notebooks/forms.ipynb), [Charts](/notebooks/charts.ipynb), [Markdown](/notebooks/markdown_guide.ipynb), & [Widgets](/notebooks/widgets.ipynb)\n",
        "- [TensorFlow with GPU](/notebooks/gpu.ipynb)\n",
        "- [TensorFlow with TPU](/notebooks/tpu.ipynb)\n",
        "- [Machine Learning Crash Course](https://developers.google.com/machine-learning/crash-course/): [Intro to Pandas](/notebooks/mlcc/intro_to_pandas.ipynb) & [First Steps with TensorFlow](/notebooks/mlcc/first_steps_with_tensor_flow.ipynb)\n",
        "- [Using Colab with GitHub](https://colab.research.google.com/github/googlecolab/colabtools/blob/master/notebooks/colab-github-demo.ipynb)\n"
      ]
    },
    {
      "metadata": {
        "colab_type": "text",
        "id": "1fr51oVCHRZU"
      },
      "cell_type": "markdown",
      "source": [
        "## Highlighted Features\n",
        "### Seedbank\n",
        "\n",
        "Looking for Colab notebooks to learn from? Check out [Seedbank](https://tools.google.com/seedbank/), a place to discover interactive machine learning examples."
      ]
    },
    {
      "metadata": {
        "colab_type": "text",
        "id": "9wi5kfGdhK0R"
      },
      "cell_type": "markdown",
      "source": [
        "### TensorFlow execution"
      ]
    },
    {
      "metadata": {
        "colab_type": "text",
        "id": "S9GW-n-oYWIj"
      },
      "cell_type": "markdown",
      "source": [
        "Colaboratory allows you to execute TensorFlow code in your browser with a single click. The example below adds two matrices.\n",
        "\n",
        "$\\begin{bmatrix}\n",
        "  1. & 1. & 1. \\\\\n",
        "  1. & 1. & 1. \\\\\n",
        "\\end{bmatrix} +\n",
        "\\begin{bmatrix}\n",
        "  1. & 2. & 3. \\\\\n",
        "  4. & 5. & 6. \\\\\n",
        "\\end{bmatrix} =\n",
        "\\begin{bmatrix}\n",
        "  2. & 3. & 4. \\\\\n",
        "  5. & 6. & 7. \\\\\n",
        "\\end{bmatrix}$"
      ]
    },
    {
      "metadata": {
        "colab_type": "code",
        "id": "oYZkU7ZN3CL0",
        "colab": {}
      },
      "cell_type": "code",
      "source": [
        "import tensorflow as tf\n",
        "\n",
        "input1 = tf.ones((2, 3))\n",
        "input2 = tf.reshape(tf.range(1, 7, dtype=tf.float32), (2, 3))\n",
        "output = input1 + input2\n",
        "\n",
        "with tf.Session():\n",
        "  result = output.eval()\n",
        "result  "
      ],
      "execution_count": 0,
      "outputs": []
    },
    {
      "metadata": {
        "colab_type": "text",
        "id": "nwYF0E3Sjiy4"
      },
      "cell_type": "markdown",
      "source": [
        "### GitHub\n",
        "\n",
        "For a full discussion of interactions between Colab and GitHub, see [Using Colab with GitHub](https://colab.research.google.com/github/googlecolab/colabtools/blob/master/notebooks/colab-github-demo.ipynb). As a brief summary:\n",
        "\n",
        "To save a copy of your Colab notebook to Github, select *File → Save a copy to GitHub…*\n",
        "\n",
        "To load a specific notebook from github, append the github path to http://colab.research.google.com/github/.\n",
        "For example to load this notebook in Colab: [https://github.com/tensorflow/docs/blob/master/site/en/tutorials/_index.ipynb](https://github.com/tensorflow/docs/blob/master/site/en/tutorials/_index.ipynb) use the following Colab URL: [https://colab.research.google.com/github/tensorflow/docs/blob/master/site/en/tutorials/_index.ipynb](https://colab.research.google.com/github/tensorflow/docs/blob/master/site/en/tutorials/_index.ipynb)\n",
        "\n",
        "To open a github notebook in one click, we recommend installing the [Open in Colab Chrome Extension](https://chrome.google.com/webstore/detail/open-in-colab/iogfkhleblhcpcekbiedikdehleodpjo).\n",
        "\n"
      ]
    },
    {
      "metadata": {
        "colab_type": "text",
        "id": "yv2XIwi5hQ_g"
      },
      "cell_type": "markdown",
      "source": [
        "### Visualization"
      ]
    },
    {
      "metadata": {
        "colab_type": "text",
        "id": "rYs5mx2JZkmy"
      },
      "cell_type": "markdown",
      "source": [
        "Colaboratory includes widely used libraries like [matplotlib](https://matplotlib.org/), simplifying visualization."
      ]
    },
    {
      "metadata": {
        "colab_type": "code",
        "id": "xqrc5C-IaA5J",
        "colab": {}
      },
      "cell_type": "code",
      "source": [
        "import matplotlib.pyplot as plt\n",
        "import numpy as np\n",
        "\n",
        "x = np.arange(20)\n",
        "y = [x_i + np.random.randn(1) for x_i in x]\n",
        "a, b = np.polyfit(x, y, 1)\n",
        "_ = plt.plot(x, y, 'o', np.arange(20), a*np.arange(20)+b, '-')"
      ],
      "execution_count": 0,
      "outputs": []
    },
    {
      "metadata": {
        "colab_type": "text",
        "id": "AN_LRQ9NkOjs"
      },
      "cell_type": "markdown",
      "source": [
        "Want to use a new library?  `pip install` it at the top of the notebook. Then that library can be used anywhere else in the notebook. For recipes to import commonly used libraries, refer to the [importing libraries example notebook](/notebooks/snippets/importing_libraries.ipynb)."
      ]
    },
    {
      "metadata": {
        "colab_type": "code",
        "id": "FlQq0SUepQbd",
        "colab": {}
      },
      "cell_type": "code",
      "source": [
        "!pip install -q matplotlib-venn\n",
        "\n",
        "from matplotlib_venn import venn2\n",
        "_ = venn2(subsets = (3, 2, 1))"
      ],
      "execution_count": 0,
      "outputs": []
    },
    {
      "metadata": {
        "colab_type": "text",
        "id": "LxZ3dPzYnyNF"
      },
      "cell_type": "markdown",
      "source": [
        "### Forms\n",
        "\n",
        "Forms can be used to parameterize code. See the [forms example notebook](/notebooks/forms.ipynb) for more details."
      ]
    },
    {
      "metadata": {
        "colab_type": "code",
        "id": "FQ_Hx_9tn7uF",
        "colab": {}
      },
      "cell_type": "code",
      "source": [
        "#@title Examples\n",
        "\n",
        "text = 'value' #@param \n",
        "date_input = '2018-03-22' #@param {type:\"date\"}\n",
        "number_slider = 0 #@param {type:\"slider\", min:-1, max:1, step:0.1}\n",
        "dropdown = '1st option' #@param [\"1st option\", \"2nd option\", \"3rd option\"]\n"
      ],
      "execution_count": 0,
      "outputs": []
    },
    {
      "metadata": {
        "colab_type": "text",
        "id": "rTX3heEtu0b2"
      },
      "cell_type": "markdown",
      "source": [
        "### Local runtime support\n",
        "\n",
        "Colab  supports connecting to a Jupyter runtime on your local machine. For more information, see our [documentation](https://research.google.com/colaboratory/local-runtimes.html)."
      ]
    }
  ]
}